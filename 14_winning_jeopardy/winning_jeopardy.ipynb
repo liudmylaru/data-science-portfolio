{
 "cells": [
  {
   "cell_type": "markdown",
   "metadata": {},
   "source": [
    "# Winning Jeopardy\n",
    "\n",
    "## Jeopardy questions\n",
    "\n",
    "Jeopardy is a popular TV show in the US where participants answer questions to win money. Let's say I want to compete on Jeopardy, and looking for any edge you can get to win. In this project, work with a dataset of Jeopardy questions to figure out some patterns in the questions that could help win.\n",
    "\n",
    "The dataset contains 20000 rows from the beginning of a full dataset of Jeopardy questions ([link](https://www.reddit.com/r/datasets/comments/1uyd0t/200000_jeopardy_questions_in_a_json_file/))."
   ]
  },
  {
   "cell_type": "code",
   "execution_count": 1,
   "metadata": {},
   "outputs": [
    {
     "data": {
      "text/html": [
       "<div>\n",
       "<style scoped>\n",
       "    .dataframe tbody tr th:only-of-type {\n",
       "        vertical-align: middle;\n",
       "    }\n",
       "\n",
       "    .dataframe tbody tr th {\n",
       "        vertical-align: top;\n",
       "    }\n",
       "\n",
       "    .dataframe thead th {\n",
       "        text-align: right;\n",
       "    }\n",
       "</style>\n",
       "<table border=\"1\" class=\"dataframe\">\n",
       "  <thead>\n",
       "    <tr style=\"text-align: right;\">\n",
       "      <th></th>\n",
       "      <th>Show Number</th>\n",
       "      <th>Air Date</th>\n",
       "      <th>Round</th>\n",
       "      <th>Category</th>\n",
       "      <th>Value</th>\n",
       "      <th>Question</th>\n",
       "      <th>Answer</th>\n",
       "    </tr>\n",
       "  </thead>\n",
       "  <tbody>\n",
       "    <tr>\n",
       "      <th>0</th>\n",
       "      <td>4680</td>\n",
       "      <td>2004-12-31</td>\n",
       "      <td>Jeopardy!</td>\n",
       "      <td>HISTORY</td>\n",
       "      <td>$200</td>\n",
       "      <td>For the last 8 years of his life, Galileo was ...</td>\n",
       "      <td>Copernicus</td>\n",
       "    </tr>\n",
       "    <tr>\n",
       "      <th>1</th>\n",
       "      <td>4680</td>\n",
       "      <td>2004-12-31</td>\n",
       "      <td>Jeopardy!</td>\n",
       "      <td>ESPN's TOP 10 ALL-TIME ATHLETES</td>\n",
       "      <td>$200</td>\n",
       "      <td>No. 2: 1912 Olympian; football star at Carlisl...</td>\n",
       "      <td>Jim Thorpe</td>\n",
       "    </tr>\n",
       "    <tr>\n",
       "      <th>2</th>\n",
       "      <td>4680</td>\n",
       "      <td>2004-12-31</td>\n",
       "      <td>Jeopardy!</td>\n",
       "      <td>EVERYBODY TALKS ABOUT IT...</td>\n",
       "      <td>$200</td>\n",
       "      <td>The city of Yuma in this state has a record av...</td>\n",
       "      <td>Arizona</td>\n",
       "    </tr>\n",
       "    <tr>\n",
       "      <th>3</th>\n",
       "      <td>4680</td>\n",
       "      <td>2004-12-31</td>\n",
       "      <td>Jeopardy!</td>\n",
       "      <td>THE COMPANY LINE</td>\n",
       "      <td>$200</td>\n",
       "      <td>In 1963, live on \"The Art Linkletter Show\", th...</td>\n",
       "      <td>McDonald's</td>\n",
       "    </tr>\n",
       "    <tr>\n",
       "      <th>4</th>\n",
       "      <td>4680</td>\n",
       "      <td>2004-12-31</td>\n",
       "      <td>Jeopardy!</td>\n",
       "      <td>EPITAPHS &amp; TRIBUTES</td>\n",
       "      <td>$200</td>\n",
       "      <td>Signer of the Dec. of Indep., framer of the Co...</td>\n",
       "      <td>John Adams</td>\n",
       "    </tr>\n",
       "  </tbody>\n",
       "</table>\n",
       "</div>"
      ],
      "text/plain": [
       "   Show Number    Air Date      Round                         Category  Value  \\\n",
       "0         4680  2004-12-31  Jeopardy!                          HISTORY   $200   \n",
       "1         4680  2004-12-31  Jeopardy!  ESPN's TOP 10 ALL-TIME ATHLETES   $200   \n",
       "2         4680  2004-12-31  Jeopardy!      EVERYBODY TALKS ABOUT IT...   $200   \n",
       "3         4680  2004-12-31  Jeopardy!                 THE COMPANY LINE   $200   \n",
       "4         4680  2004-12-31  Jeopardy!              EPITAPHS & TRIBUTES   $200   \n",
       "\n",
       "                                            Question      Answer  \n",
       "0  For the last 8 years of his life, Galileo was ...  Copernicus  \n",
       "1  No. 2: 1912 Olympian; football star at Carlisl...  Jim Thorpe  \n",
       "2  The city of Yuma in this state has a record av...     Arizona  \n",
       "3  In 1963, live on \"The Art Linkletter Show\", th...  McDonald's  \n",
       "4  Signer of the Dec. of Indep., framer of the Co...  John Adams  "
      ]
     },
     "execution_count": 1,
     "metadata": {},
     "output_type": "execute_result"
    }
   ],
   "source": [
    "import pandas as pd\n",
    "\n",
    "jeopardy = pd.read_csv(\"jeopardy.csv\")\n",
    "\n",
    "jeopardy.head(5)"
   ]
  },
  {
   "cell_type": "code",
   "execution_count": 2,
   "metadata": {},
   "outputs": [
    {
     "data": {
      "text/plain": [
       "Index(['Show Number', ' Air Date', ' Round', ' Category', ' Value',\n",
       "       ' Question', ' Answer'],\n",
       "      dtype='object')"
      ]
     },
     "execution_count": 2,
     "metadata": {},
     "output_type": "execute_result"
    }
   ],
   "source": [
    "jeopardy.columns"
   ]
  },
  {
   "cell_type": "markdown",
   "metadata": {},
   "source": [
    "Some of the column names have spaces in front. Remove the spaces in each column."
   ]
  },
  {
   "cell_type": "code",
   "execution_count": 3,
   "metadata": {},
   "outputs": [
    {
     "data": {
      "text/plain": [
       "Index(['Show Number', 'Air Date', 'Round', 'Category', 'Value', 'Question',\n",
       "       'Answer'],\n",
       "      dtype='object')"
      ]
     },
     "execution_count": 3,
     "metadata": {},
     "output_type": "execute_result"
    }
   ],
   "source": [
    "new_columns = ['Show Number', 'Air Date', 'Round', 'Category', 'Value',\n",
    "       'Question', 'Answer']\n",
    "jeopardy.columns = new_columns\n",
    "jeopardy.columns"
   ]
  },
  {
   "cell_type": "markdown",
   "metadata": {},
   "source": [
    "Each row in the dataset represents a single question on a single episode of Jeopardy. List of columns:\n",
    "\n",
    "* **Show Number:** the Jeopardy episode number of the show this question was in.\n",
    "* **Air Date:** the date the episode aired.\n",
    "* **Round:** the round of Jeopardy that the question was asked in. Jeopardy has several rounds as each episode progresses.\n",
    "* **Category:** the category of the question.\n",
    "* **Value:** the number of dollars answering the question correctly is worth.\n",
    "* **Question:** the text of the question.\n",
    "* **Answer:** the text of the answer.\n",
    "\n",
    "## Normalize text\n",
    "\n",
    "Before start doing analysis on the Jeopardy questions, need to normalize all of the text columns (the Question and Answer columns). Ensure that you lowercase words and remove punctuation so `Don't` and `don't` aren't considered to be different words."
   ]
  },
  {
   "cell_type": "code",
   "execution_count": 7,
   "metadata": {},
   "outputs": [],
   "source": [
    "import re, string\n",
    "\n",
    "regex = re.compile('[%s]' % re.escape(string.punctuation))\n",
    "\n",
    "# function to normalize questions and answers\n",
    "def normalize(text):\n",
    "    text_lower = text.lower()\n",
    "    return regex.sub('', text_lower)\n",
    "\n",
    "# normalize the Question column\n",
    "jeopardy['clean_question'] = jeopardy['Question'].apply(normalize)\n",
    "\n",
    "# normalize the Answer column\n",
    "jeopardy['clean_answer'] = jeopardy['Answer'].apply(normalize)"
   ]
  },
  {
   "cell_type": "code",
   "execution_count": 9,
   "metadata": {},
   "outputs": [
    {
     "name": "stdout",
     "output_type": "stream",
     "text": [
      "                                            Question  \\\n",
      "0  For the last 8 years of his life, Galileo was ...   \n",
      "1  No. 2: 1912 Olympian; football star at Carlisl...   \n",
      "2  The city of Yuma in this state has a record av...   \n",
      "3  In 1963, live on \"The Art Linkletter Show\", th...   \n",
      "4  Signer of the Dec. of Indep., framer of the Co...   \n",
      "\n",
      "                                      clean_question  \n",
      "0  for the last 8 years of his life galileo was u...  \n",
      "1  no 2 1912 olympian football star at carlisle i...  \n",
      "2  the city of yuma in this state has a record av...  \n",
      "3  in 1963 live on the art linkletter show this c...  \n",
      "4  signer of the dec of indep framer of the const...  \n",
      "           Answer    clean_answer\n",
      "0      Copernicus      copernicus\n",
      "1      Jim Thorpe      jim thorpe\n",
      "2         Arizona         arizona\n",
      "3      McDonald's       mcdonalds\n",
      "4      John Adams      john adams\n",
      "5         the ant         the ant\n",
      "6  the Appian Way  the appian way\n",
      "7  Michael Jordan  michael jordan\n",
      "8      Washington      washington\n",
      "9  Crate & Barrel   crate  barrel\n"
     ]
    }
   ],
   "source": [
    "# view result\n",
    "print(jeopardy[['Question', 'clean_question']].head(5))\n",
    "print(jeopardy[['Answer', 'clean_answer']].head(10))"
   ]
  },
  {
   "cell_type": "markdown",
   "metadata": {},
   "source": [
    "## Normalize columns\n",
    "\n",
    "The `Value` column should also be numeric to manipulate it more easily. Need to remove the dollar sign from the beginning of each value and convert the column from text to numeric. The `Air Date` column should also be a datetime, not a string."
   ]
  },
  {
   "cell_type": "code",
   "execution_count": 10,
   "metadata": {},
   "outputs": [],
   "source": [
    "# function to normalize questions and answers\n",
    "def normalize_value(text):\n",
    "    # remove any punctuation in the string\n",
    "    clean_text = regex.sub('', text)\n",
    "    try:\n",
    "        result = int(clean_text)\n",
    "    except:\n",
    "        result = 0\n",
    "    return result\n",
    "\n",
    "# normalize the Value column\n",
    "jeopardy['clean_value'] = jeopardy['Value'].apply(normalize_value)"
   ]
  },
  {
   "cell_type": "code",
   "execution_count": 11,
   "metadata": {},
   "outputs": [
    {
     "name": "stdout",
     "output_type": "stream",
     "text": [
      "  Value  clean_value\n",
      "0  $200          200\n",
      "1  $200          200\n",
      "2  $200          200\n",
      "3  $200          200\n",
      "4  $200          200\n"
     ]
    }
   ],
   "source": [
    "# view result\n",
    "print(jeopardy[['Value', 'clean_value']].head(5))"
   ]
  },
  {
   "cell_type": "code",
   "execution_count": 13,
   "metadata": {},
   "outputs": [],
   "source": [
    "# convert the Air Date column to a datetime column\n",
    "jeopardy['Air Date'] = pd.to_datetime(jeopardy['Air Date'])"
   ]
  },
  {
   "cell_type": "markdown",
   "metadata": {},
   "source": [
    "##  Answers in questions\n",
    "\n",
    "In order to figure out whether to study past questions, study general knowledge, or not study it all, it would be helpful to figure out two things:\n",
    "\n",
    "* How often the answer is deducible from the question?\n",
    "* How often new questions are repeats of older questions?\n",
    "\n",
    "Try to answer the second question by seeing how often complex words (> 6 characters) reoccur. Answer the first question by seeing how many times words in the answer also occur in the question."
   ]
  },
  {
   "cell_type": "code",
   "execution_count": 15,
   "metadata": {},
   "outputs": [
    {
     "data": {
      "text/plain": [
       "0.060352773854699004"
      ]
     },
     "execution_count": 15,
     "metadata": {},
     "output_type": "execute_result"
    }
   ],
   "source": [
    "# count how many times words in the answer occur in the question\n",
    "def count_matches(row):\n",
    "    split_answer = row['clean_answer'].split(' ')\n",
    "    split_question = row['clean_question'].split(' ')\n",
    "    match_count = 0\n",
    "    if 'the' in split_answer:\n",
    "        split_answer.remove('the')\n",
    "    if len(split_answer) == 0:\n",
    "        return 0\n",
    "    for a in split_answer:\n",
    "        if a in split_question:\n",
    "            match_count += 1\n",
    "    return match_count/len(split_answer)\n",
    "\n",
    "jeopardy['answer_in_question'] = jeopardy.apply(count_matches, axis=1)\n",
    "\n",
    "jeopardy['answer_in_question'].mean()"
   ]
  },
  {
   "cell_type": "markdown",
   "metadata": {},
   "source": [
    "The answer appears in question only in 6% of cases. It is not a good ctrategy to hope guess answers from the questions.\n",
    "\n",
    "## Recycled questions\n",
    "\n",
    "Let's tre investigate second question: How often new questions are repeats of older questions?\n",
    "\n",
    "Check if the terms in questions have been used previously or not. Look only at words greater than 6 characters to filter out words like `the` and `than`, which are commonly used."
   ]
  },
  {
   "cell_type": "code",
   "execution_count": 30,
   "metadata": {},
   "outputs": [
    {
     "data": {
      "text/plain": [
       "0.6919577992203563"
      ]
     },
     "execution_count": 30,
     "metadata": {},
     "output_type": "execute_result"
    }
   ],
   "source": [
    "# count how many long words occure in older questions\n",
    "question_overlap = []\n",
    "terms_used = set()\n",
    "\n",
    "for index, row in jeopardy.iterrows():\n",
    "    split_question = row['clean_question'].split(' ')\n",
    "    # filter words in split_question that are more than 6 characters long\n",
    "    split_question = list(filter(lambda x: len(x) > 5, split_question))\n",
    "    match_count = 0\n",
    "    for q in split_question:\n",
    "        if q in terms_used:\n",
    "            match_count += 1\n",
    "        terms_used.add(q)\n",
    "    if len(split_question) > 0:\n",
    "        match_count = match_count/len(split_question)\n",
    "    question_overlap.append(match_count)\n",
    "\n",
    "jeopardy['question_overlap'] = question_overlap\n",
    "jeopardy['question_overlap'].mean()"
   ]
  },
  {
   "cell_type": "markdown",
   "metadata": {},
   "source": [
    "There is about 70% overlap between terms in new questions and terms in old questions. This only looks at a small set of questions, and it doesn't look at phrases, it looks at single terms. This makes it relatively insignificant, but it does mean that it's worth looking more into the recycling of questions.\n",
    "\n",
    "##  Low value vs high value questions\n",
    "\n",
    "Can try to study questions that pertain to high value questions instead of low value questions. This will help earn more money on Jeopardy.\n",
    "\n",
    "Let's figure out which terms correspond to high-value questions using a chi-squared test. First, narrow down the questions into two categories: less than 800 and greater than 800. Then using `terms_used`:\n",
    "\n",
    "* Find the number of low value questions the word occurs in.\n",
    "* Find the number of high value questions the word occurs in.\n",
    "* Find the percentage of questions the word occurs in.\n",
    "* Based on the percentage of questions the word occurs in, find expected counts.\n",
    "* Compute the chi squared value based on the expected counts and the observed counts for high and low value questions.\n",
    "\n",
    "You can then find the words with the biggest differences in usage between high and low value questions, by selecting the words with the highest associated chi-squared values. Do it for a small sample of words to reduce time."
   ]
  },
  {
   "cell_type": "code",
   "execution_count": 31,
   "metadata": {},
   "outputs": [],
   "source": [
    "# divide questions into two grops: low and high value\n",
    "def high_value(row):\n",
    "    if row['clean_value'] > 800:\n",
    "        value = 1\n",
    "    else:\n",
    "        value = 0\n",
    "    return value\n",
    "\n",
    "jeopardy['high_value'] = jeopardy.apply(high_value, axis=1)"
   ]
  },
  {
   "cell_type": "code",
   "execution_count": 37,
   "metadata": {},
   "outputs": [],
   "source": [
    "# helper function to count usage of words\n",
    "def count_usage(word):\n",
    "    low_count = 0\n",
    "    high_count = 0\n",
    "    for i, row in jeopardy.iterrows():\n",
    "        split_question = row['clean_question'].split(' ')\n",
    "        if word in split_question:\n",
    "            if row['high_value'] == 1:\n",
    "                high_count += 1\n",
    "            else:\n",
    "                low_count += 1\n",
    "    return high_count, low_count\n",
    "\n",
    "observed_count = []\n",
    "comparison_terms = list(terms_used)[:5]\n",
    "\n",
    "for term in comparison_terms:\n",
    "    h_count, l_count = count_usage(term)\n",
    "    observed_count.append([h_count, l_count])"
   ]
  },
  {
   "cell_type": "markdown",
   "metadata": {},
   "source": [
    "## Apply the chi-squared test"
   ]
  },
  {
   "cell_type": "code",
   "execution_count": 38,
   "metadata": {},
   "outputs": [
    {
     "data": {
      "text/plain": [
       "[[1.607851384507536, 0.2047940943922556],\n",
       " [2.487792117195675, 0.11473257634454047],\n",
       " [0.401962846126884, 0.5260772985705469],\n",
       " [0.02636443308440769, 0.871013484688921],\n",
       " [2.487792117195675, 0.11473257634454047]]"
      ]
     },
     "execution_count": 38,
     "metadata": {},
     "output_type": "execute_result"
    }
   ],
   "source": [
    "from scipy.stats import chisquare\n",
    "import numpy as np\n",
    "\n",
    "# number of rows in jeopardy where high_value is 1\n",
    "high_value_count = jeopardy[jeopardy['high_value'] == 1].shape[0]\n",
    "\n",
    "# number of rows in jeopardy where high_value is 0\n",
    "low_value_count = jeopardy[jeopardy['high_value'] == 0].shape[0]\n",
    "\n",
    "chi_squared = []\n",
    "\n",
    "for obs in observed_count:\n",
    "    total = obs[0] + obs[1]\n",
    "    # get proportion across the dataset:\n",
    "    total_prop = total / jeopardy.shape[0]\n",
    "    # get the expected term count for high value rows:\n",
    "    expected_high_count = total_prop * high_value_count\n",
    "    # get the expected term count for low value rows:\n",
    "    expected_low_count = total_prop * low_value_count\n",
    "    # compute the chi-squared value and p-value given the expected and observed counts\n",
    "    observed = np.array([obs[0], obs[1]])\n",
    "    expected = np.array([expected_high_count, expected_low_count])\n",
    "    chi_sq, p_value = chisquare(observed, expected)\n",
    "    chi_squared.append([chi_sq, p_value])\n",
    "\n",
    "chi_squared"
   ]
  },
  {
   "cell_type": "markdown",
   "metadata": {},
   "source": [
    "None of the terms had a significant difference in usage between high value and low value rows. Additionally, the frequencies were all lower than 5, so the chi-squared test isn't as valid. It would be better to run this test with only terms that have higher frequencies."
   ]
  }
 ],
 "metadata": {
  "kernelspec": {
   "display_name": "Python 3",
   "language": "python",
   "name": "python3"
  },
  "language_info": {
   "codemirror_mode": {
    "name": "ipython",
    "version": 3
   },
   "file_extension": ".py",
   "mimetype": "text/x-python",
   "name": "python",
   "nbconvert_exporter": "python",
   "pygments_lexer": "ipython3",
   "version": "3.7.3"
  }
 },
 "nbformat": 4,
 "nbformat_minor": 2
}
