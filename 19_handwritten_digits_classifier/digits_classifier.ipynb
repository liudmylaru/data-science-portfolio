{
 "cells": [
  {
   "cell_type": "markdown",
   "metadata": {},
   "source": [
    "# Building A Handwritten Digits Classifier\n",
    "\n",
    "In this project explore the effectiveness of deep, feedforward neural networks at classifying images.\n",
    "\n",
    "##  Work With Image Data\n",
    "\n",
    "`Scikit-learn` contains a number of datasets pre-loaded with the library, within the namespace of `sklearn.datasets`. The `load_digits()` function returns a copy of the hand-written digits dataset from UCI ([link](http://archive.ics.uci.edu/ml/datasets/Optical+Recognition+of+Handwritten+Digits)).\n",
    "\n",
    "Let's load dataset and visualize some digits."
   ]
  },
  {
   "cell_type": "code",
   "execution_count": 1,
   "metadata": {},
   "outputs": [],
   "source": [
    "from sklearn.datasets import load_digits\n",
    "import pandas as pd\n",
    "import matplotlib.pyplot as plt\n",
    "import numpy as np\n",
    "\n",
    "digits, labels = load_digits(return_X_y=True)\n",
    "digits = pd.DataFrame(digits)\n",
    "labels = pd.Series(labels)\n",
    "\n",
    "fig = plt.figure()\n",
    "images = [0, 100, 200, 300, 1000, 1100, 1200, 1300]\n",
    "for i,im in enumerate(images):\n",
    "    ax = fig.add_subplot(2,4,i+1)\n",
    "    image = digits.iloc[im].values.reshape(8,8)\n",
    "    ax.imshow(image, cmap='gray_r')"
   ]
  },
  {
   "cell_type": "markdown",
   "metadata": {},
   "source": [
    "## K-Nearest Neighbors Model\n",
    "\n",
    "The k-nearest neighbors algorithm compares every unseen observation in the test set to all (or many, as some implementations constrain the search space) training observations to look for similar (or the \"nearest\") observations. Then, the algorithm finds the label with the most nearby observations and assigns that as the prediction for the unseen observation."
   ]
  },
  {
   "cell_type": "code",
   "execution_count": 2,
   "metadata": {},
   "outputs": [],
   "source": [
    "from sklearn.neighbors import KNeighborsClassifier\n",
    "from sklearn.model_selection import cross_validate, KFold\n",
    "from sklearn.metrics import roc_auc_score\n",
    "k_values = [2, 5, 10, 15]\n",
    "accuracy_results = []\n",
    "for k in k_values:\n",
    "    kf = KFold(n_splits=4, random_state=1, shuffle=True)\n",
    "    neigh = KNeighborsClassifier(n_neighbors=k)\n",
    "    cv_results = cross_validate(neigh, X=digits, y=labels, scoring='accuracy', cv=kf, return_train_score=True)\n",
    "    accuracy_results.append(cv_results)"
   ]
  },
  {
   "cell_type": "code",
   "execution_count": 3,
   "metadata": {},
   "outputs": [
    {
     "name": "stdout",
     "output_type": "stream",
     "text": [
      "2 neighbours: test accuracy: 0.9805184360306854\n",
      "2 neighbours: train accuracy: 0.9912814552175513\n",
      "5 neighbours: test accuracy: 0.9832999257609502\n",
      "5 neighbours: train accuracy: 0.9905390647201496\n",
      "10 neighbours: test accuracy: 0.9782887899034892\n",
      "10 neighbours: train accuracy: 0.9862725222992517\n",
      "15 neighbours: test accuracy: 0.9749517446176689\n",
      "15 neighbours: train accuracy: 0.9831190148896658\n"
     ]
    },
    {
     "data": {
      "text/plain": [
       "[<matplotlib.lines.Line2D at 0x1a18884208>]"
      ]
     },
     "execution_count": 3,
     "metadata": {},
     "output_type": "execute_result"
    },
    {
     "data": {
      "image/png": "[encoded data removed]",
      "text/plain": [
       "<Figure size 432x288 with 1 Axes>"
      ]
     },
     "metadata": {
      "needs_background": "light"
     },
     "output_type": "display_data"
    }
   ],
   "source": [
    "test_avgs = []\n",
    "train_avgs = []\n",
    "for i, k in enumerate(k_values):\n",
    "    test_avg = np.average(accuracy_results[i]['test_score'])\n",
    "    train_avg = np.average(accuracy_results[i]['train_score'])\n",
    "    print(k, 'neighbours: test accuracy:', test_avg)\n",
    "    print(k, 'neighbours: train accuracy:', train_avg)\n",
    "    test_avgs.append(test_avg)\n",
    "    train_avgs.append(train_avg)\n",
    "plt.plot(test_avgs)\n",
    "plt.plot(train_avgs)"
   ]
  },
  {
   "cell_type": "markdown",
   "metadata": {},
   "source": [
    "## Neural Network With One Hidden Layer\n",
    "\n",
    "Let's now try a neural network with a single hidden layer."
   ]
  },
  {
   "cell_type": "code",
   "execution_count": 4,
   "metadata": {},
   "outputs": [],
   "source": [
    "from sklearn.neural_network import MLPClassifier\n",
    "\n",
    "neurons = [8, 16, 32, 64, 128, 256]\n",
    "accuracy_results = []\n",
    "for n in neurons:\n",
    "    kf = KFold(n_splits=4, random_state=1, shuffle=True)\n",
    "    nn = MLPClassifier(hidden_layer_sizes=(n,), activation='relu', max_iter=1400)\n",
    "    cv_results = cross_validate(nn, X=digits, y=labels, scoring='accuracy', cv=kf, return_train_score=True)\n",
    "    accuracy_results.append(cv_results)"
   ]
  },
  {
   "cell_type": "code",
   "execution_count": 5,
   "metadata": {},
   "outputs": [
    {
     "name": "stdout",
     "output_type": "stream",
     "text": [
      "8 neurons: test accuracy: 0.9376713684731501\n",
      "8 neurons: train accuracy: 0.9998145400593472\n",
      "16 neurons: test accuracy: 0.9610455332838406\n",
      "16 neurons: train accuracy: 0.9998145400593472\n",
      "32 neurons: test accuracy: 0.9671615936649345\n",
      "32 neurons: train accuracy: 1.0\n",
      "64 neurons: test accuracy: 0.9693887651571392\n",
      "64 neurons: train accuracy: 1.0\n",
      "128 neurons: test accuracy: 0.9699492699826776\n",
      "128 neurons: train accuracy: 1.0\n",
      "256 neurons: test accuracy: 0.9738406335065578\n",
      "256 neurons: train accuracy: 1.0\n"
     ]
    },
    {
     "data": {
      "text/plain": [
       "[<matplotlib.lines.Line2D at 0x1a18cebe10>]"
      ]
     },
     "execution_count": 5,
     "metadata": {},
     "output_type": "execute_result"
    },
    {
     "data": {
      "image/png": "[encoded data removed]",
      "text/plain": [
       "<Figure size 432x288 with 1 Axes>"
      ]
     },
     "metadata": {
      "needs_background": "light"
     },
     "output_type": "display_data"
    }
   ],
   "source": [
    "test_avgs = []\n",
    "train_avgs = []\n",
    "for i, n in enumerate(neurons):\n",
    "    test_avg = np.average(accuracy_results[i]['test_score'])\n",
    "    train_avg = np.average(accuracy_results[i]['train_score'])\n",
    "    print(n, 'neurons: test accuracy:', test_avg)\n",
    "    print(n, 'neurons: train accuracy:', train_avg)\n",
    "    test_avgs.append(test_avg)\n",
    "    train_avgs.append(train_avg)\n",
    "plt.plot(test_avgs)\n",
    "plt.plot(train_avgs)"
   ]
  },
  {
   "cell_type": "markdown",
   "metadata": {},
   "source": [
    "## Neural Network With Two Hidden Layers\n",
    "\n",
    "Adding more neurons to a single hidden layer vastly improved the classification accuracy. Let's try using two hidden layers and continue to increase the number of neurons in each layer."
   ]
  },
  {
   "cell_type": "code",
   "execution_count": 6,
   "metadata": {},
   "outputs": [
    {
     "data": {
      "text/plain": [
       "{'fit_time': array([1.82093287, 1.74690676, 1.88156986, 1.77448082]),\n",
       " 'score_time': array([0.00307298, 0.00389624, 0.00294209, 0.00307107]),\n",
       " 'test_score': array([0.98      , 0.95545657, 0.98218263, 0.97327394]),\n",
       " 'train_score': array([1., 1., 1., 1.])}"
      ]
     },
     "execution_count": 6,
     "metadata": {},
     "output_type": "execute_result"
    }
   ],
   "source": [
    "# 2 hidden layers instead in the network\n",
    "kf = KFold(n_splits=4, random_state=1, shuffle=True)\n",
    "nn = MLPClassifier(hidden_layer_sizes=(64,64), activation='relu')\n",
    "cv_results = cross_validate(nn, X=digits, y=labels, scoring='accuracy', cv=kf, return_train_score=True)\n",
    "cv_results"
   ]
  },
  {
   "cell_type": "markdown",
   "metadata": {},
   "source": [
    "##  Neural Network With Three Hidden Layers\n",
    "\n",
    "Using more hidden layers is known to increase the amount of overfitting that happens. To prevent overfitting, let's increase the number of folds for k-fold cross validation to 6 while testing networks with 3 hidden layers."
   ]
  },
  {
   "cell_type": "code",
   "execution_count": 7,
   "metadata": {},
   "outputs": [],
   "source": [
    "# 6 fold cross validation\n",
    "kf = KFold(n_splits=6, random_state=1, shuffle=True)\n",
    "neurons = [10, 64, 128]\n",
    "accuracy_results = []\n",
    "for n in neurons:\n",
    "    nn = MLPClassifier(hidden_layer_sizes=(n,n,n), activation='relu', max_iter=1000)\n",
    "    cv_results = cross_validate(nn, X=digits, y=labels, scoring='accuracy', cv=kf, return_train_score=True)\n",
    "    accuracy_results.append(cv_results)"
   ]
  },
  {
   "cell_type": "code",
   "execution_count": 8,
   "metadata": {},
   "outputs": [
    {
     "name": "stdout",
     "output_type": "stream",
     "text": [
      "10 neurons: test accuracy: 0.9449070977331848\n",
      "10 neurons: train accuracy: 1.0\n",
      "64 neurons: test accuracy: 0.9671646228167967\n",
      "64 neurons: train accuracy: 1.0\n",
      "128 neurons: test accuracy: 0.9783017465626161\n",
      "128 neurons: train accuracy: 1.0\n"
     ]
    },
    {
     "data": {
      "text/plain": [
       "[<matplotlib.lines.Line2D at 0x1a1930f828>]"
      ]
     },
     "execution_count": 8,
     "metadata": {},
     "output_type": "execute_result"
    },
    {
     "data": {
      "image/png": "[encoded data removed]",
      "text/plain": [
       "<Figure size 432x288 with 1 Axes>"
      ]
     },
     "metadata": {
      "needs_background": "light"
     },
     "output_type": "display_data"
    }
   ],
   "source": [
    "test_avgs = []\n",
    "train_avgs = []\n",
    "for i, n in enumerate(neurons):\n",
    "    test_avg = np.average(accuracy_results[i]['test_score'])\n",
    "    train_avg = np.average(accuracy_results[i]['train_score'])\n",
    "    print(n, 'neurons: test accuracy:', test_avg)\n",
    "    print(n, 'neurons: train accuracy:', train_avg)\n",
    "    test_avgs.append(test_avg)\n",
    "    train_avgs.append(train_avg)\n",
    "plt.plot(test_avgs)\n",
    "plt.plot(train_avgs)"
   ]
  },
  {
   "cell_type": "code",
   "execution_count": null,
   "metadata": {},
   "outputs": [],
   "source": []
  }
 ],
 "metadata": {
  "kernelspec": {
   "display_name": "Python 3",
   "language": "python",
   "name": "python3"
  },
  "language_info": {
   "codemirror_mode": {
    "name": "ipython",
    "version": 3
   },
   "file_extension": ".py",
   "mimetype": "text/x-python",
   "name": "python",
   "nbconvert_exporter": "python",
   "pygments_lexer": "ipython3",
   "version": "3.7.3"
  }
 },
 "nbformat": 4,
 "nbformat_minor": 2
}
