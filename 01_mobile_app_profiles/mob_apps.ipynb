{
 "cells": [
  {
   "cell_type": "markdown",
   "metadata": {},
   "source": [
    "# What Kind of Mobile Apps Attract Users\n",
    "\n",
    "Analyze data to help developers understand what kinds of apps are likely to attract more users on **Google Play** and the **App Store**. The goal of recommending an app profile that can be profitable for both markets.\n",
    "\n",
    "\n",
    "## Open and Explore Data Sets\n",
    "\n",
    "For the project I use 2 sets of data:\n",
    "\n",
    "* Mobile App Statistics (Apple iOS app store) - [link](https://www.kaggle.com/ramamet4/app-store-apple-data-set-10k-apps/home)\n",
    "* Web scraped data of 10k Play Store apps for analysing the Android market - [link](https://www.kaggle.com/lava18/google-play-store-apps/home)\n",
    "\n",
    "Begin with open and explore data sets"
   ]
  },
  {
   "cell_type": "code",
   "execution_count": 4,
   "metadata": {},
   "outputs": [],
   "source": [
    "from csv import reader\n",
    "\n",
    "# read AppleStore data\n",
    "opened_file = open('AppleStore.csv', encoding='utf8')\n",
    "read_file = reader(opened_file)\n",
    "a_data = list(read_file)\n",
    "a_data_header = a_data[0]\n",
    "a_data = a_data[1:]\n",
    "\n",
    "# read googleplaystore data\n",
    "opened_file = open('googleplaystore.csv', encoding='utf8')\n",
    "read_file = reader(opened_file)\n",
    "g_data = list(read_file)\n",
    "g_data_header = g_data[0]\n",
    "g_data = g_data[1:]"
   ]
  },
  {
   "cell_type": "markdown",
   "metadata": {},
   "source": [
    "For exploring data use help function `explore_data()`:"
   ]
  },
  {
   "cell_type": "code",
   "execution_count": 2,
   "metadata": {},
   "outputs": [],
   "source": [
    "def explore_data(dataset, start, end, rows_and_columns=False):\n",
    "    dataset_slice = dataset[start:end]    \n",
    "    for row in dataset_slice:\n",
    "        print(row)\n",
    "        print('\\n') # adds a new (empty) line after each row\n",
    "\n",
    "    if rows_and_columns:\n",
    "        print('Number of rows:', len(dataset))\n",
    "        print('Number of columns:', len(dataset[0]))"
   ]
  },
  {
   "cell_type": "markdown",
   "metadata": {},
   "source": [
    "Print header of `AppleStore` data and explore 3 top rows:"
   ]
  },
  {
   "cell_type": "code",
   "execution_count": 5,
   "metadata": {},
   "outputs": [
    {
     "name": "stdout",
     "output_type": "stream",
     "text": [
      "['', 'id', 'track_name', 'size_bytes', 'currency', 'price', 'rating_count_tot', 'rating_count_ver', 'user_rating', 'user_rating_ver', 'ver', 'cont_rating', 'prime_genre', 'sup_devices.num', 'ipadSc_urls.num', 'lang.num', 'vpp_lic']\n",
      "\n",
      "\n",
      "['1', '281656475', 'PAC-MAN Premium', '100788224', 'USD', '3.99', '21292', '26', '4', '4.5', '6.3.5', '4+', 'Games', '38', '5', '10', '1']\n",
      "\n",
      "\n",
      "['2', '281796108', 'Evernote - stay organized', '158578688', 'USD', '0', '161065', '26', '4', '3.5', '8.2.2', '4+', 'Productivity', '37', '5', '23', '1']\n",
      "\n",
      "\n",
      "['3', '281940292', 'WeatherBug - Local Weather, Radar, Maps, Alerts', '100524032', 'USD', '0', '188583', '2822', '3.5', '4.5', '5.0.0', '4+', 'Weather', '37', '5', '3', '1']\n",
      "\n",
      "\n",
      "Number of rows: 7197\n",
      "Number of columns: 17\n"
     ]
    }
   ],
   "source": [
    "print(a_data_header)\n",
    "print('\\n')\n",
    "explore_data(a_data, 0, 3, True)"
   ]
  },
  {
   "cell_type": "markdown",
   "metadata": {},
   "source": [
    "---\n",
    "There are 7197 applications in mobile application set. 17 fields describe each application. Most valuable for analys:\n",
    "- 'track_name': App Name,\n",
    "- 'currency': Currency Type,\n",
    "- 'price': Price amount, \n",
    "- 'rating_count_tot': User Rating counts (for all version), \n",
    "- 'user_rating': Average User Rating value (for all version), \n",
    "- 'cont_rating': Content Rating, \n",
    "- 'prime_genre': Primary Genre, \n",
    "- 'sup_devices.num': Number of supporting devices, \n",
    "- 'ipadSc_urls.num': Number of screenshots showed for display, \n",
    "- 'lang.num': Number of supported languages. "
   ]
  },
  {
   "cell_type": "markdown",
   "metadata": {},
   "source": [
    "Print header of `googleplaystore` data and explore 3 top rows:"
   ]
  },
  {
   "cell_type": "code",
   "execution_count": 7,
   "metadata": {},
   "outputs": [
    {
     "name": "stdout",
     "output_type": "stream",
     "text": [
      "['App', 'Category', 'Rating', 'Reviews', 'Size', 'Installs', 'Type', 'Price', 'Content Rating', 'Genres', 'Last Updated', 'Current Ver', 'Android Ver']\n",
      "\n",
      "\n",
      "['Photo Editor & Candy Camera & Grid & ScrapBook', 'ART_AND_DESIGN', '4.1', '159', '19M', '10,000+', 'Free', '0', 'Everyone', 'Art & Design', 'January 7, 2018', '1.0.0', '4.0.3 and up']\n",
      "\n",
      "\n",
      "['Coloring book moana', 'ART_AND_DESIGN', '3.9', '967', '14M', '500,000+', 'Free', '0', 'Everyone', 'Art & Design;Pretend Play', 'January 15, 2018', '2.0.0', '4.0.3 and up']\n",
      "\n",
      "\n",
      "['U Launcher Lite – FREE Live Cool Themes, Hide Apps', 'ART_AND_DESIGN', '4.7', '87510', '8.7M', '5,000,000+', 'Free', '0', 'Everyone', 'Art & Design', 'August 1, 2018', '1.2.4', '4.0.3 and up']\n",
      "\n",
      "\n",
      "Number of rows: 10841\n",
      "Number of columns: 13\n"
     ]
    }
   ],
   "source": [
    "print(g_data_header)\n",
    "print('\\n')\n",
    "explore_data(g_data, 0, 3, True)"
   ]
  },
  {
   "cell_type": "markdown",
   "metadata": {},
   "source": [
    "---\n",
    "\n",
    "There are 10841 applications in mobile application set. 13 fields describe each application. Most valuable for analys:\n",
    "\n",
    "- 'App': Application name, \n",
    "- 'Category': Category the app belongs to, \n",
    "- 'Rating': Overall user rating of the app (as when scraped), \n",
    "- 'Reviews': Number of user reviews for the app (as when scraped),\n",
    "- 'Installs': Number of user downloads/installs for the app (as when scraped), \n",
    "- 'Type': Paid or Free, \n",
    "- 'Price': Price of the app (as when scraped), \n",
    "- 'Content Rating': Age group the app is targeted at - Children / Mature 21+ / Adult, \n",
    "- 'Genres': An app can belong to multiple genres (apart from its main category). For eg, a musical family game will belong to Music, Game, Family genres.."
   ]
  },
  {
   "cell_type": "markdown",
   "metadata": {},
   "source": [
    "## Data Cleaning\n",
    "\n",
    "In the discussion page of googleplaystore data set there was a mistake in `'Rating'` found."
   ]
  },
  {
   "cell_type": "code",
   "execution_count": 16,
   "metadata": {},
   "outputs": [
    {
     "name": "stdout",
     "output_type": "stream",
     "text": [
      "['App', 'Category', 'Rating', 'Reviews', 'Size', 'Installs', 'Type', 'Price', 'Content Rating', 'Genres', 'Last Updated', 'Current Ver', 'Android Ver']\n",
      "\n",
      "\n",
      "['Life Made WI-Fi Touchscreen Photo Frame', '1.9', '19', '3.0M', '1,000+', 'Free', '0', 'Everyone', '', 'February 11, 2018', '1.0.19', '4.0 and up']\n",
      "\n",
      "\n",
      "['Photo Editor & Candy Camera & Grid & ScrapBook', 'ART_AND_DESIGN', '4.1', '159', '19M', '10,000+', 'Free', '0', 'Everyone', 'Art & Design', 'January 7, 2018', '1.0.0', '4.0.3 and up']\n"
     ]
    }
   ],
   "source": [
    "print(g_data_header)\n",
    "print('\\n')\n",
    "print(g_data[10472])"
   ]
  },
  {
   "cell_type": "markdown",
   "metadata": {},
   "source": [
    "There is `'Rating'` value 19. Max value should be 5. To avoid this mistake the row should be removed."
   ]
  },
  {
   "cell_type": "code",
   "execution_count": 17,
   "metadata": {},
   "outputs": [
    {
     "name": "stdout",
     "output_type": "stream",
     "text": [
      "10841\n",
      "10840\n"
     ]
    }
   ],
   "source": [
    "print(len(g_data))\n",
    "del g_data[10472] # delete only one time\n",
    "print(len(g_data))"
   ]
  },
  {
   "cell_type": "markdown",
   "metadata": {},
   "source": [
    "## Remove Duplicted Rows\n",
    "\n",
    "Data set has several rows for some applications with difference in `'Reviews'` value. It may be caused by different timimg of saving information about the same application into data set. Here example for `'Instagram'` application:"
   ]
  },
  {
   "cell_type": "code",
   "execution_count": 32,
   "metadata": {},
   "outputs": [
    {
     "name": "stdout",
     "output_type": "stream",
     "text": [
      "['App', 'Category', 'Rating', 'Reviews', 'Size', 'Installs', 'Type', 'Price', 'Content Rating', 'Genres', 'Last Updated', 'Current Ver', 'Android Ver']\n",
      "['Instagram', 'SOCIAL', '4.5', '66577313', 'Varies with device', '1,000,000,000+', 'Free', '0', 'Teen', 'Social', 'July 31, 2018', 'Varies with device', 'Varies with device']\n",
      "['Instagram', 'SOCIAL', '4.5', '66577446', 'Varies with device', '1,000,000,000+', 'Free', '0', 'Teen', 'Social', 'July 31, 2018', 'Varies with device', 'Varies with device']\n",
      "['Instagram', 'SOCIAL', '4.5', '66577313', 'Varies with device', '1,000,000,000+', 'Free', '0', 'Teen', 'Social', 'July 31, 2018', 'Varies with device', 'Varies with device']\n",
      "['Instagram', 'SOCIAL', '4.5', '66509917', 'Varies with device', '1,000,000,000+', 'Free', '0', 'Teen', 'Social', 'July 31, 2018', 'Varies with device', 'Varies with device']\n"
     ]
    }
   ],
   "source": [
    "print(g_data_header)\n",
    "for row in g_data:\n",
    "    app_name = row[0]\n",
    "    if app_name == 'Instagram':\n",
    "        print(row)"
   ]
  },
  {
   "cell_type": "markdown",
   "metadata": {},
   "source": [
    "The number of duplicated rows can be counted:"
   ]
  },
  {
   "cell_type": "code",
   "execution_count": 31,
   "metadata": {},
   "outputs": [
    {
     "name": "stdout",
     "output_type": "stream",
     "text": [
      "Number of unique rows:  9659\n",
      "Number of duplicated rows:  1181\n",
      "\n",
      "Some duplicated applications appeared in data set:\n",
      "['Quick PDF Scanner + OCR FREE', 'Box', 'Google My Business', 'ZOOM Cloud Meetings', 'join.me - Simple Meetings']\n"
     ]
    }
   ],
   "source": [
    "duplicates = []\n",
    "uniques = []\n",
    "\n",
    "for row in g_data:\n",
    "    app_name = row[0]\n",
    "    if app_name in uniques:\n",
    "        duplicates.append(app_name)\n",
    "    else:\n",
    "        uniques.append(app_name)\n",
    "        \n",
    "print('Number of unique rows: ',len(uniques))\n",
    "print('Number of duplicated rows: ',len(duplicates))\n",
    "print(\"\\nSome duplicated applications appeared in data set:\")\n",
    "print(duplicates[:5])"
   ]
  },
  {
   "cell_type": "markdown",
   "metadata": {},
   "source": [
    "The easiest way is to remove duplicated rows randomly, but it will be not a good approach to analyse data after. The only one difference is `'Reviews'` value. The bigger the value the later data about application was written into data set. The beeter approach is to leave row with the biggest value of `'Reviews'` and all ather duplicated rows ahould be removed."
   ]
  },
  {
   "cell_type": "markdown",
   "metadata": {},
   "source": [
    "* **First step:** create a dictionary, where each dictionary key is a unique app name and the corresponding dictionary value is the highest number of reviews of that app"
   ]
  },
  {
   "cell_type": "code",
   "execution_count": 39,
   "metadata": {},
   "outputs": [
    {
     "name": "stdout",
     "output_type": "stream",
     "text": [
      "9659\n"
     ]
    }
   ],
   "source": [
    "highest_review = {}\n",
    "\n",
    "for row in g_data:\n",
    "    app_name = row[0]\n",
    "    review = float(row[3])\n",
    "    if app_name not in highest_review:\n",
    "        highest_review[app_name] = review\n",
    "    else:\n",
    "        if highest_review[app_name] < review:\n",
    "            highest_review[app_name] = review\n",
    "\n",
    "print(len(highest_review))"
   ]
  },
  {
   "cell_type": "markdown",
   "metadata": {},
   "source": [
    "* **Second step:** use the information stored in the dictionary to create a new data set, which will have only one entry per app (and for each app, we'll only select the entry with the highest number of reviews)"
   ]
  },
  {
   "cell_type": "code",
   "execution_count": 49,
   "metadata": {},
   "outputs": [
    {
     "name": "stdout",
     "output_type": "stream",
     "text": [
      "['Photo Editor & Candy Camera & Grid & ScrapBook', 'ART_AND_DESIGN', '4.1', '159', '19M', '10,000+', 'Free', '0', 'Everyone', 'Art & Design', 'January 7, 2018', '1.0.0', '4.0.3 and up']\n",
      "\n",
      "\n",
      "['U Launcher Lite – FREE Live Cool Themes, Hide Apps', 'ART_AND_DESIGN', '4.7', '87510', '8.7M', '5,000,000+', 'Free', '0', 'Everyone', 'Art & Design', 'August 1, 2018', '1.2.4', '4.0.3 and up']\n",
      "\n",
      "\n",
      "['Sketch - Draw & Paint', 'ART_AND_DESIGN', '4.5', '215644', '25M', '50,000,000+', 'Free', '0', 'Teen', 'Art & Design', 'June 8, 2018', 'Varies with device', '4.2 and up']\n",
      "\n",
      "\n",
      "Number of rows: 9659\n",
      "Number of columns: 13\n"
     ]
    }
   ],
   "source": [
    "g_data_clean = [] # contain cleaned data set, without duplicates \n",
    "added_apps = [] # to keep track of apps that already added\n",
    "\n",
    "for row in g_data:\n",
    "    app_name = row[0]\n",
    "    review = float(row[3])\n",
    "    if (highest_review[app_name] == review) and (app_name not in added_apps):\n",
    "        g_data_clean.append(row)\n",
    "        added_apps.append(app_name)\n",
    "        \n",
    "explore_data(g_data_clean, 0, 3, True)"
   ]
  },
  {
   "cell_type": "markdown",
   "metadata": {},
   "source": [
    "## Remove Non-English Applications\n",
    "\n",
    "For analysis purpose there is no need of non-Ebglish applications. We will go through each application name and find names with only English letters. According to the ASCII (American Standard Code for Information Interchange) system there should be numbers less then 127. Numbers are integers representing the Unicode code point of each character.\n",
    "We will use helper function:"
   ]
  },
  {
   "cell_type": "code",
   "execution_count": 50,
   "metadata": {},
   "outputs": [
    {
     "name": "stdout",
     "output_type": "stream",
     "text": [
      "True\n",
      "False\n",
      "False\n",
      "False\n"
     ]
    }
   ],
   "source": [
    "def detect_eng (string):\n",
    "    for character in string:\n",
    "        if ord(character) > 127:\n",
    "            return False\n",
    "    return True\n",
    "\n",
    "print(detect_eng('Instagram'))\n",
    "print(detect_eng('爱奇艺PPS -《欢乐颂2》电视剧热播'))\n",
    "print(detect_eng('Docs To Go™ Free Office Suite'))\n",
    "print(detect_eng('Instachat 😜'))"
   ]
  },
  {
   "cell_type": "markdown",
   "metadata": {},
   "source": [
    "This function works, but needs to be updated to detect additional characters, like emojis, but still recognize English as a main language of application name."
   ]
  },
  {
   "cell_type": "code",
   "execution_count": 55,
   "metadata": {},
   "outputs": [
    {
     "name": "stdout",
     "output_type": "stream",
     "text": [
      "True\n",
      "False\n",
      "True\n",
      "True\n"
     ]
    }
   ],
   "source": [
    "def detect_eng (string):\n",
    "    emojies = 0\n",
    "    for character in string:\n",
    "        if ord(character) > 127:\n",
    "            emojies +=1\n",
    "    if emojies > 3:\n",
    "        return False\n",
    "    else:\n",
    "        return True\n",
    "\n",
    "print(detect_eng('Instagram'))\n",
    "print(detect_eng('爱奇艺PPS -《欢乐颂2》电视剧热播'))\n",
    "print(detect_eng('Docs To Go™ Free Office Suite'))\n",
    "print(detect_eng('Instachat 😜'))"
   ]
  },
  {
   "cell_type": "markdown",
   "metadata": {},
   "source": [
    "Let's use the new function to filter out non-English apps from both data sets."
   ]
  },
  {
   "cell_type": "code",
   "execution_count": 57,
   "metadata": {},
   "outputs": [
    {
     "name": "stdout",
     "output_type": "stream",
     "text": [
      "['1', '281656475', 'PAC-MAN Premium', '100788224', 'USD', '3.99', '21292', '26', '4', '4.5', '6.3.5', '4+', 'Games', '38', '5', '10', '1']\n",
      "\n",
      "\n",
      "['2', '281796108', 'Evernote - stay organized', '158578688', 'USD', '0', '161065', '26', '4', '3.5', '8.2.2', '4+', 'Productivity', '37', '5', '23', '1']\n",
      "\n",
      "\n",
      "['3', '281940292', 'WeatherBug - Local Weather, Radar, Maps, Alerts', '100524032', 'USD', '0', '188583', '2822', '3.5', '4.5', '5.0.0', '4+', 'Weather', '37', '5', '3', '1']\n",
      "\n",
      "\n",
      "Number of rows: 6183\n",
      "Number of columns: 17\n",
      "\n",
      "\n",
      "['Photo Editor & Candy Camera & Grid & ScrapBook', 'ART_AND_DESIGN', '4.1', '159', '19M', '10,000+', 'Free', '0', 'Everyone', 'Art & Design', 'January 7, 2018', '1.0.0', '4.0.3 and up']\n",
      "\n",
      "\n",
      "['U Launcher Lite – FREE Live Cool Themes, Hide Apps', 'ART_AND_DESIGN', '4.7', '87510', '8.7M', '5,000,000+', 'Free', '0', 'Everyone', 'Art & Design', 'August 1, 2018', '1.2.4', '4.0.3 and up']\n",
      "\n",
      "\n",
      "['Sketch - Draw & Paint', 'ART_AND_DESIGN', '4.5', '215644', '25M', '50,000,000+', 'Free', '0', 'Teen', 'Art & Design', 'June 8, 2018', 'Varies with device', '4.2 and up']\n",
      "\n",
      "\n",
      "Number of rows: 9614\n",
      "Number of columns: 13\n"
     ]
    }
   ],
   "source": [
    "a_data_eng = [] # only English applications in data set\n",
    "g_data_eng = [] # only English applications in data set\n",
    "\n",
    "for row in a_data:\n",
    "    app_name = row[2]\n",
    "    if detect_eng(app_name):\n",
    "        a_data_eng.append(row)\n",
    "        \n",
    "for row in g_data_clean:\n",
    "    app_name = row[0]\n",
    "    if detect_eng(app_name):\n",
    "        g_data_eng.append(row)\n",
    "        \n",
    "explore_data(a_data_eng, 0, 3, True)\n",
    "print('\\n')\n",
    "explore_data(g_data_eng, 0, 3, True)"
   ]
  },
  {
   "cell_type": "markdown",
   "metadata": {},
   "source": [
    "## Collect Free Appliactions in Data Set\n",
    "\n",
    "The data sets contain both free and non-free apps, and we'll need to isolate only the free apps for our analysis.\n"
   ]
  },
  {
   "cell_type": "code",
   "execution_count": 62,
   "metadata": {},
   "outputs": [
    {
     "name": "stdout",
     "output_type": "stream",
     "text": [
      "AppStore applications:  3222\n",
      "googleplaystore applications:  8864\n"
     ]
    }
   ],
   "source": [
    "a_data_new = [] # only free applications in data set\n",
    "g_data_new = [] # only free applications in data set\n",
    "\n",
    "for row in a_data_eng:\n",
    "    price = float(row[5])\n",
    "    if price == 0:\n",
    "        a_data_new.append(row)\n",
    "\n",
    "for row in g_data_eng:\n",
    "    price = row[7]\n",
    "    if price == '0':\n",
    "        g_data_new.append(row)\n",
    "        \n",
    "print('AppStore applications: ', len(a_data_new))\n",
    "print('googleplaystore applications: ', len(g_data_new))"
   ]
  },
  {
   "cell_type": "markdown",
   "metadata": {},
   "source": [
    "## Look Closer at Genres\n",
    "\n",
    "Our aim is to determine the kinds of apps that are likely to attract more users because our revenue is highly influenced by the number of people using our apps. We need to find app profiles that are successful on both markets: **App Store** and **Google Play**.\n",
    "\n",
    "Let's begin the analysis by getting a sense of what are the most common genres for each market. For this, we'll need to build frequency tables for a few columns in our data sets.\n",
    "\n",
    "We will use `'prime_genre'` column of the **App Store** data set, and the `'Genres'` and `'Category'` columns of the **Google Play** data set. And create helper functions `freq_table()` and `display_table()`:"
   ]
  },
  {
   "cell_type": "code",
   "execution_count": 77,
   "metadata": {},
   "outputs": [],
   "source": [
    "def freq_table(dataset, index):\n",
    "    f_table = {}\n",
    "    total = 0\n",
    "    for row in dataset:\n",
    "        total += 1\n",
    "        value = row[index]\n",
    "        if value in f_table:\n",
    "            f_table[value] += 1\n",
    "        else:\n",
    "            f_table[value] = 1\n",
    "    \n",
    "    for element in f_table:\n",
    "        f_table[element] = f_table[element]/total * 100\n",
    "    \n",
    "    return f_table\n",
    "\n",
    "def display_table(dataset, index):\n",
    "    table = freq_table(dataset, index)\n",
    "    table_display = []\n",
    "    for key in table:\n",
    "        key_val_as_tuple = (table[key], key)\n",
    "        table_display.append(key_val_as_tuple)\n",
    "\n",
    "    table_sorted = sorted(table_display, reverse = True)\n",
    "    for entry in table_sorted:\n",
    "        print(entry[1], ':', entry[0])"
   ]
  },
  {
   "cell_type": "markdown",
   "metadata": {},
   "source": [
    "Now we can display frequency table of the columns `'prime_genre'`, `'Genres'`, and `'Category'`."
   ]
  },
  {
   "cell_type": "code",
   "execution_count": 78,
   "metadata": {
    "scrolled": true
   },
   "outputs": [
    {
     "name": "stdout",
     "output_type": "stream",
     "text": [
      "Games : 58.16263190564867\n",
      "Entertainment : 7.883302296710118\n",
      "Photo & Video : 4.9658597144630665\n",
      "Education : 3.662321539416512\n",
      "Social Networking : 3.2898820608317814\n",
      "Shopping : 2.60707635009311\n",
      "Utilities : 2.5139664804469275\n",
      "Sports : 2.1415270018621975\n",
      "Music : 2.0484171322160147\n",
      "Health & Fitness : 2.0173805090006205\n",
      "Productivity : 1.7380509000620732\n",
      "Lifestyle : 1.5828677839851024\n",
      "News : 1.3345747982619491\n",
      "Travel : 1.2414649286157666\n",
      "Finance : 1.1173184357541899\n",
      "Weather : 0.8690254500310366\n",
      "Food & Drink : 0.8069522036002483\n",
      "Reference : 0.5586592178770949\n",
      "Business : 0.5276225946617008\n",
      "Book : 0.4345127250155183\n",
      "Navigation : 0.186219739292365\n",
      "Medical : 0.186219739292365\n",
      "Catalogs : 0.12414649286157665\n"
     ]
    }
   ],
   "source": [
    "# frequency table for AppStore applications on 'prime_genre' column\n",
    "display_table(a_data_new, 12) "
   ]
  },
  {
   "cell_type": "markdown",
   "metadata": {},
   "source": [
    "The biggest amount applications in `'Games'` - 58%, then it goes `'Entertainment'`, `'Photo & Video'`, `'Education'` and `'Social Networking'`. I looks like more applications for fun (games, entertainment, photo and video, social networking, sports, music, etc.) and less for practical purposes (education, shopping, utilities, productivity, lifestyle, etc.).\n",
    "\n",
    "However, the fact that fun apps are the most numerous doesn't also imply that they also have the greatest number of users — the demand might not be the same as the offer."
   ]
  },
  {
   "cell_type": "code",
   "execution_count": 66,
   "metadata": {},
   "outputs": [
    {
     "name": "stdout",
     "output_type": "stream",
     "text": [
      "FAMILY : 0.0018907942238267149\n",
      "GAME : 0.0009724729241877256\n",
      "TOOLS : 0.0008461191335740072\n",
      "BUSINESS : 0.00045916064981949456\n",
      "LIFESTYLE : 0.00039034296028880866\n",
      "PRODUCTIVITY : 0.0003892148014440433\n",
      "FINANCE : 0.0003700361010830325\n",
      "MEDICAL : 0.00035311371841155237\n",
      "SPORTS : 0.0003395758122743682\n",
      "PERSONALIZATION : 0.00033167870036101085\n",
      "COMMUNICATION : 0.00032378158844765343\n",
      "HEALTH_AND_FITNESS : 0.0003079873646209386\n",
      "PHOTOGRAPHY : 0.0002944494584837545\n",
      "NEWS_AND_MAGAZINES : 0.00027978339350180506\n",
      "SOCIAL : 0.00026624548736462096\n",
      "TRAVEL_AND_LOCAL : 0.000233528880866426\n",
      "SHOPPING : 0.00022450361010830324\n",
      "BOOKS_AND_REFERENCE : 0.00021435018050541517\n",
      "DATING : 0.00018614620938628158\n",
      "VIDEO_PLAYERS : 0.00017937725631768953\n",
      "MAPS_AND_NAVIGATION : 0.00013989169675090253\n",
      "FOOD_AND_DRINK : 0.00012409747292418773\n",
      "EDUCATION : 0.00011620036101083033\n",
      "ENTERTAINMENT : 9.589350180505415e-05\n",
      "LIBRARIES_AND_DEMO : 9.363718411552347e-05\n",
      "AUTO_AND_VEHICLES : 9.250902527075812e-05\n",
      "HOUSE_AND_HOME : 8.235559566787003e-05\n",
      "WEATHER : 8.009927797833936e-05\n",
      "EVENTS : 7.10740072202166e-05\n",
      "PARENTING : 6.543321299638989e-05\n",
      "ART_AND_DESIGN : 6.430505415162455e-05\n",
      "COMICS : 6.204873646209386e-05\n",
      "BEAUTY : 5.9792418772563175e-05\n"
     ]
    }
   ],
   "source": [
    "# frequency table for googleplaysyore applications on 'Category' column\n",
    "display_table(g_data_new, 1) "
   ]
  },
  {
   "cell_type": "markdown",
   "metadata": {},
   "source": [
    "In googleplay store set the whole picture is different. More application for for practical purposes (family, tools, business, lifestyle, productivity, etc.) and less fo fun. However, if we investigate this further, we can see that the family category (which accounts for almost 19% of the apps) means mostly games for kids.\n",
    "\n",
    "Practical apps seem to have a better representation on **Google Play** compared to **App Store**. This picture is also confirmed by the frequency table we see for the `'Genres'` column:"
   ]
  },
  {
   "cell_type": "code",
   "execution_count": 67,
   "metadata": {},
   "outputs": [
    {
     "name": "stdout",
     "output_type": "stream",
     "text": [
      "Tools : 0.0008449909747292419\n",
      "Entertainment : 0.0006069494584837545\n",
      "Education : 0.0005347472924187726\n",
      "Business : 0.00045916064981949456\n",
      "Productivity : 0.0003892148014440433\n",
      "Lifestyle : 0.0003892148014440433\n",
      "Finance : 0.0003700361010830325\n",
      "Medical : 0.00035311371841155237\n",
      "Sports : 0.0003463447653429603\n",
      "Personalization : 0.00033167870036101085\n",
      "Communication : 0.00032378158844765343\n",
      "Action : 0.00031024368231046933\n",
      "Health & Fitness : 0.0003079873646209386\n",
      "Photography : 0.0002944494584837545\n",
      "News & Magazines : 0.00027978339350180506\n",
      "Social : 0.00026624548736462096\n",
      "Travel & Local : 0.00023240072202166065\n",
      "Shopping : 0.00022450361010830324\n",
      "Books & Reference : 0.00021435018050541517\n",
      "Simulation : 0.00020419675090252708\n",
      "Dating : 0.00018614620938628158\n",
      "Arcade : 0.00018501805054151624\n",
      "Video Players & Editors : 0.00017712093862815885\n",
      "Casual : 0.00017599277978339351\n",
      "Maps & Navigation : 0.00013989169675090253\n",
      "Food & Drink : 0.00012409747292418773\n",
      "Puzzle : 0.0001128158844765343\n",
      "Racing : 9.927797833935018e-05\n",
      "Role Playing : 9.363718411552347e-05\n",
      "Libraries & Demo : 9.363718411552347e-05\n",
      "Auto & Vehicles : 9.250902527075812e-05\n",
      "Strategy : 9.138086642599278e-05\n",
      "House & Home : 8.235559566787003e-05\n",
      "Weather : 8.009927797833936e-05\n",
      "Events : 7.10740072202166e-05\n",
      "Adventure : 6.768953068592058e-05\n",
      "Comics : 6.092057761732852e-05\n",
      "Beauty : 5.9792418772563175e-05\n",
      "Art & Design : 5.9792418772563175e-05\n",
      "Parenting : 4.963898916967509e-05\n",
      "Card : 4.5126353790613716e-05\n",
      "Casino : 4.2870036101083035e-05\n",
      "Trivia : 4.174187725631769e-05\n",
      "Educational;Education : 3.9485559566787e-05\n",
      "Board : 3.835740072202166e-05\n",
      "Educational : 3.722924187725632e-05\n",
      "Education;Education : 3.384476534296029e-05\n",
      "Word : 2.5947653429602887e-05\n",
      "Casual;Pretend Play : 2.3691335740072202e-05\n",
      "Music : 2.0306859205776173e-05\n",
      "Racing;Action & Adventure : 1.6922382671480144e-05\n",
      "Puzzle;Brain Games : 1.6922382671480144e-05\n",
      "Entertainment;Music & Video : 1.6922382671480144e-05\n",
      "Casual;Brain Games : 1.3537906137184115e-05\n",
      "Casual;Action & Adventure : 1.3537906137184115e-05\n",
      "Arcade;Action & Adventure : 1.2409747292418773e-05\n",
      "Action;Action & Adventure : 1.0153429602888087e-05\n",
      "Educational;Pretend Play : 9.025270758122744e-06\n",
      "Simulation;Action & Adventure : 7.8971119133574e-06\n",
      "Parenting;Education : 7.8971119133574e-06\n",
      "Entertainment;Brain Games : 7.8971119133574e-06\n",
      "Board;Brain Games : 7.8971119133574e-06\n",
      "Parenting;Music & Video : 6.768953068592058e-06\n",
      "Educational;Brain Games : 6.768953068592058e-06\n",
      "Casual;Creativity : 6.768953068592058e-06\n",
      "Art & Design;Creativity : 6.768953068592058e-06\n",
      "Education;Pretend Play : 5.6407942238267145e-06\n",
      "Role Playing;Pretend Play : 4.512635379061372e-06\n",
      "Education;Creativity : 4.512635379061372e-06\n",
      "Role Playing;Action & Adventure : 3.384476534296029e-06\n",
      "Puzzle;Action & Adventure : 3.384476534296029e-06\n",
      "Entertainment;Creativity : 3.384476534296029e-06\n",
      "Entertainment;Action & Adventure : 3.384476534296029e-06\n",
      "Educational;Creativity : 3.384476534296029e-06\n",
      "Educational;Action & Adventure : 3.384476534296029e-06\n",
      "Education;Music & Video : 3.384476534296029e-06\n",
      "Education;Brain Games : 3.384476534296029e-06\n",
      "Education;Action & Adventure : 3.384476534296029e-06\n",
      "Adventure;Action & Adventure : 3.384476534296029e-06\n",
      "Video Players & Editors;Music & Video : 2.256317689530686e-06\n",
      "Sports;Action & Adventure : 2.256317689530686e-06\n",
      "Simulation;Pretend Play : 2.256317689530686e-06\n",
      "Puzzle;Creativity : 2.256317689530686e-06\n",
      "Music;Music & Video : 2.256317689530686e-06\n",
      "Entertainment;Pretend Play : 2.256317689530686e-06\n",
      "Casual;Education : 2.256317689530686e-06\n",
      "Board;Action & Adventure : 2.256317689530686e-06\n",
      "Video Players & Editors;Creativity : 1.128158844765343e-06\n",
      "Trivia;Education : 1.128158844765343e-06\n",
      "Travel & Local;Action & Adventure : 1.128158844765343e-06\n",
      "Tools;Education : 1.128158844765343e-06\n",
      "Strategy;Education : 1.128158844765343e-06\n",
      "Strategy;Creativity : 1.128158844765343e-06\n",
      "Strategy;Action & Adventure : 1.128158844765343e-06\n",
      "Simulation;Education : 1.128158844765343e-06\n",
      "Role Playing;Brain Games : 1.128158844765343e-06\n",
      "Racing;Pretend Play : 1.128158844765343e-06\n",
      "Puzzle;Education : 1.128158844765343e-06\n",
      "Parenting;Brain Games : 1.128158844765343e-06\n",
      "Music & Audio;Music & Video : 1.128158844765343e-06\n",
      "Lifestyle;Pretend Play : 1.128158844765343e-06\n",
      "Lifestyle;Education : 1.128158844765343e-06\n",
      "Health & Fitness;Education : 1.128158844765343e-06\n",
      "Health & Fitness;Action & Adventure : 1.128158844765343e-06\n",
      "Entertainment;Education : 1.128158844765343e-06\n",
      "Communication;Creativity : 1.128158844765343e-06\n",
      "Comics;Creativity : 1.128158844765343e-06\n",
      "Casual;Music & Video : 1.128158844765343e-06\n",
      "Card;Action & Adventure : 1.128158844765343e-06\n",
      "Books & Reference;Education : 1.128158844765343e-06\n",
      "Art & Design;Pretend Play : 1.128158844765343e-06\n",
      "Art & Design;Action & Adventure : 1.128158844765343e-06\n",
      "Arcade;Pretend Play : 1.128158844765343e-06\n",
      "Adventure;Education : 1.128158844765343e-06\n"
     ]
    }
   ],
   "source": [
    "# frequency table for googleplaysyore applications on 'Genres' column\n",
    "display_table(g_data_new, 9)"
   ]
  },
  {
   "cell_type": "markdown",
   "metadata": {},
   "source": [
    "The difference between the `'Genres'` and the `'Category'` columns is not clear, but one thing we can notice is that the `'Genres'` column is much more granular (it has more categories). We're only looking for the bigger picture at the moment, so we'll only work with the `'Category'` column moving forward."
   ]
  },
  {
   "cell_type": "markdown",
   "metadata": {},
   "source": [
    "## Most Popular Apps by Genre on the App Store\n",
    "\n",
    "The frequency tables we analyzed in the previous screen showed us that the **App Store** is dominated by apps designed for fun, while **Google Play** shows a more balanced landscape of both practical and for-fun apps. Now, we'd like to get an idea about the kind of apps with the most users.\n",
    "\n",
    "One way to find out what genres are the most popular (have the most users) is to calculate the average number of installs for each app genre. For the **Google Play** data set, we can find this information in the `'Installs'` column, but this information is missing for the **App Store** data set. As a workaround, we'll take the total number of user ratings as a proxy, which we can find in the `'rating_count_tot'` app."
   ]
  },
  {
   "cell_type": "code",
   "execution_count": 83,
   "metadata": {},
   "outputs": [
    {
     "name": "stdout",
     "output_type": "stream",
     "text": [
      "Productivity :  21028.410714285714\n",
      "Weather :  52279.892857142855\n",
      "Shopping :  26919.690476190477\n",
      "Reference :  74942.11111111111\n",
      "Finance :  31467.944444444445\n",
      "Music :  57326.530303030304\n",
      "Utilities :  18684.456790123455\n",
      "Travel :  28243.8\n",
      "Social Networking :  71548.34905660378\n",
      "Sports :  23008.898550724636\n",
      "Health & Fitness :  23298.015384615384\n",
      "Games :  22788.6696905016\n",
      "Food & Drink :  33333.92307692308\n",
      "News :  21248.023255813954\n",
      "Book :  39758.5\n",
      "Photo & Video :  28441.54375\n",
      "Entertainment :  14029.830708661417\n",
      "Business :  7491.117647058823\n",
      "Lifestyle :  16485.764705882353\n",
      "Education :  7003.983050847458\n",
      "Navigation :  86090.33333333333\n",
      "Medical :  612.0\n",
      "Catalogs :  4004.0\n"
     ]
    }
   ],
   "source": [
    "unique_genres = freq_table(a_data_new, 12)\n",
    "\n",
    "for genre in unique_genres:\n",
    "    total = 0\n",
    "    len_genre = 0\n",
    "    \n",
    "    for row in a_data_new:\n",
    "        genre_app = row[12]\n",
    "        if genre_app == genre:\n",
    "            rating_count = float(row[6])\n",
    "            total += rating_count\n",
    "            len_genre += 1\n",
    "    \n",
    "    avg_rating_count = total/len_genre\n",
    "    print(genre,': ',avg_rating_count)"
   ]
  },
  {
   "cell_type": "markdown",
   "metadata": {},
   "source": [
    "The most rated genres are: `'Reference'`, `'Navigation'`, `'Social Networking'`, `'Weather'`, `'Finance, Music'`, `'Food & Drink'`. Navigation is mostly influenced by Waze and Google Maps. Social Networking - by Facebook, Linkedin, Spype etc. Finance - by applications supporting online banking.\n",
    "\n",
    "Let's look closer to some genres: `'Reference'`, `'Music'`, `'Food & Drink'`. "
   ]
  },
  {
   "cell_type": "code",
   "execution_count": 92,
   "metadata": {},
   "outputs": [
    {
     "name": "stdout",
     "output_type": "stream",
     "text": [
      "Bible : 985920\n",
      "Dictionary.com Dictionary & Thesaurus : 200047\n",
      "Dictionary.com Dictionary & Thesaurus for iPad : 54175\n",
      "Muslim Pro: Ramadan 2017 Prayer Times, Azan, Quran : 18418\n",
      "Merriam-Webster Dictionary : 16849\n",
      "Google Translate : 26786\n",
      "Night Sky : 12122\n",
      "WWDC : 762\n",
      "Jishokun-Japanese English Dictionary & Translator : 0\n",
      "教えて!goo : 0\n",
      "VPN Express : 14\n",
      "New Furniture Mods - Pocket Wiki & Game Tools for Minecraft PC Edition : 17588\n",
      "LUCKY BLOCK MOD ™ for Minecraft PC Edition - The Best Pocket Wiki & Mods Installer Tools : 4693\n",
      "Guides for Pokémon GO - Pokemon GO News and Cheats : 826\n",
      "Horror Maps for Minecraft PE - Download The Scariest Maps for Minecraft Pocket Edition (MCPE) Free : 718\n",
      "City Maps for Minecraft PE - The Best Maps for Minecraft Pocket Edition (MCPE) : 8535\n",
      "GUNS MODS for Minecraft PC Edition - Mods Tools : 1497\n",
      "Real Bike Traffic Rider Virtual Reality Glasses : 8\n"
     ]
    }
   ],
   "source": [
    "for row in a_data_new:\n",
    "    genre = row[12]\n",
    "    if genre == 'Reference':\n",
    "        print(row[2], ':', row[6]) # print name and number of ratings"
   ]
  },
  {
   "cell_type": "code",
   "execution_count": 93,
   "metadata": {},
   "outputs": [
    {
     "name": "stdout",
     "output_type": "stream",
     "text": [
      "Pandora - Music & Radio : 1126879\n",
      "Shazam - Discover music, artists, videos & lyrics : 402925\n",
      "iHeartRadio – Free Music & Radio Stations : 293228\n",
      "Deezer - Listen to your Favorite Music & Playlists : 4677\n",
      "Sonos Controller : 48905\n",
      "NRJ Radio : 38\n",
      "radio.de - Der Radioplayer : 64\n",
      "Spotify Music : 878563\n",
      "SoundCloud - Music & Audio : 135744\n",
      "Sing Karaoke Songs Unlimited with StarMaker : 26227\n",
      "SoundHound Song Search & Music Player : 82602\n",
      "Ringtones for iPhone & Ringtone Maker : 25403\n",
      "Coach Guitar - Lessons & Easy Tabs For Beginners : 2416\n",
      "TuneIn Radio - MLB NBA Audiobooks Podcasts Music : 110420\n",
      "Magic Piano by Smule : 131695\n",
      "QQ音乐HD : 224\n",
      "The Singing Machine Mobile Karaoke App : 130\n",
      "Bandsintown Concerts : 30845\n",
      "PetitLyrics : 0\n",
      "edjing Mix:DJ turntable to remix and scratch music : 13580\n",
      "Smule Sing! : 119316\n",
      "Amazon Music : 106235\n",
      "AutoRap by Smule : 18202\n",
      "My Mixtapez Music : 26286\n",
      "Certified Mixtapes - Hip Hop Albums & Mixtapes : 9975\n",
      "Karaoke - Sing Karaoke, Unlimited Songs! : 28606\n",
      "Napster - Top Music & Radio : 14268\n",
      "Musi - Unlimited Music For YouTube : 25193\n",
      "UE BOOM : 612\n",
      "Spinrilla - Mixtapes For Free : 15053\n",
      "Google Play Music : 10118\n",
      "Piano - Play Keyboard Music Games with Magic Tiles : 1636\n",
      "Bose SoundTouch : 3687\n",
      "DatPiff : 2815\n",
      "Sounds app - Music And Friends : 5126\n",
      "Smart Music: Streaming Videos and Radio : 17\n",
      "Free Piano app by Yokee : 13016\n",
      "Simple Radio - Live AM & FM Radio Stations : 4787\n",
      "Trebel Music - Unlimited Music Downloader : 2570\n",
      "TIDAL : 7398\n",
      "Acapella from PicPlayPost : 2487\n",
      "Medly - Music Maker : 933\n",
      "Amazon Alexa : 3018\n",
      "Music Freedom - Unlimited Free MP3 Music Streaming : 1246\n",
      "PlayGround • Music At Your Fingertips : 150\n",
      "Musical Video Maker - Create Music clips lip sync : 320\n",
      "Free Music Play - Mp3 Streamer & Player : 2496\n",
      "LiveMixtapes : 555\n",
      "AmpMe - A Portable Social Party Music Speaker : 1047\n",
      "NOISE : 355\n",
      "YouTube Music : 7109\n",
      "Ringtones for iPhone with Ringtone Maker : 4013\n",
      "Music Memos : 909\n",
      "Musicloud - MP3 and FLAC Music Player for Cloud Platforms. : 2211\n",
      "Bose Connect : 915\n",
      "Cloud Music Player - Downloader & Playlist Manager : 319\n",
      "Remixlive - Remix loops with pads : 288\n",
      "Free Music -  Player & Streamer  for Dropbox, OneDrive & Google Drive : 46\n",
      "Boom: Best Equalizer & Magical Surround Sound : 1375\n",
      "MP3 Music Player & Streamer for Clouds : 329\n",
      "Nicki Minaj: The Empire : 5196\n",
      "SongFlip - Free Music Streamer : 5004\n",
      "Blocs Wave - Make & Record Music : 158\n",
      "Music and Chill : 135\n",
      "Free Music - MP3 Streamer & Playlist Manager Pro : 13443\n",
      "BOSS Tuner : 13\n"
     ]
    }
   ],
   "source": [
    "for row in a_data_new:\n",
    "    genre = row[12]\n",
    "    if genre == 'Music':\n",
    "        print(row[2], ':', row[6]) # print name and number of ratings"
   ]
  },
  {
   "cell_type": "code",
   "execution_count": 94,
   "metadata": {},
   "outputs": [
    {
     "name": "stdout",
     "output_type": "stream",
     "text": [
      "OpenTable - Restaurant Reservations : 113936\n",
      "Allrecipes Dinner Spinner : 109349\n",
      "McDo France : 22\n",
      "Starbucks : 303856\n",
      "Lieferando.de : 29\n",
      "Domino's Pizza USA : 258624\n",
      "Lieferheld - Delicious food delivery service : 29\n",
      "Bon Appetit : 750\n",
      "Chefkoch - Rezepte, Kochen, Backen & Kochbuch : 20\n",
      "Chick-fil-A : 5665\n",
      "Postmates - Food Delivery, Faster : 9519\n",
      "Open Food Facts : 1\n",
      "7-Eleven, Inc. : 1356\n",
      "Nowait Guest : 1625\n",
      "DoorDash - Food Delivery : 25947\n",
      "SONIC Drive-In : 1645\n",
      "Youmiam : 9\n",
      "McDonald's : 4050\n",
      "Deliveroo: Restaurant Delivery - Order Food Nearby : 1702\n",
      "Outback : 805\n",
      "Dunkin' Donuts - Get Offers, Coupons & Rewards : 9068\n",
      "UberEATS: Uber for Food Delivery : 17865\n",
      "Delish Eatmoji Keyboard : 154\n",
      "Marmiton Twist : 2\n",
      "Starbucks Keyboard : 457\n",
      "Whataburger : 197\n"
     ]
    }
   ],
   "source": [
    "for row in a_data_new:\n",
    "    genre = row[12]\n",
    "    if genre == 'Food & Drink':\n",
    "        print(row[2], ':', row[6]) # print name and number of ratings"
   ]
  },
  {
   "cell_type": "markdown",
   "metadata": {},
   "source": [
    "So it can be an application about popular book, with additional features like audio. Still we can consider fiance application, wheather or music one."
   ]
  },
  {
   "cell_type": "markdown",
   "metadata": {},
   "source": [
    "## Most Popular Apps by Genre on the Google Store\n",
    "\n",
    "We have data about the number of installs for the **Google Play** market, so we should be able to get a clearer picture about genre popularity.\n"
   ]
  },
  {
   "cell_type": "code",
   "execution_count": 99,
   "metadata": {},
   "outputs": [
    {
     "name": "stdout",
     "output_type": "stream",
     "text": [
      "ART_AND_DESIGN :  1986335.0877192982\n",
      "AUTO_AND_VEHICLES :  647317.8170731707\n",
      "BEAUTY :  513151.88679245283\n",
      "BOOKS_AND_REFERENCE :  8767811.894736841\n",
      "BUSINESS :  1712290.1474201474\n",
      "COMICS :  817657.2727272727\n",
      "COMMUNICATION :  38456119.167247385\n",
      "DATING :  854028.8303030303\n",
      "EDUCATION :  1833495.145631068\n",
      "ENTERTAINMENT :  11640705.88235294\n",
      "EVENTS :  253542.22222222222\n",
      "FINANCE :  1387692.475609756\n",
      "FOOD_AND_DRINK :  1924897.7363636363\n",
      "HEALTH_AND_FITNESS :  4188821.9853479853\n",
      "HOUSE_AND_HOME :  1331540.5616438356\n",
      "LIBRARIES_AND_DEMO :  638503.734939759\n",
      "LIFESTYLE :  1437816.2687861272\n",
      "GAME :  15588015.603248259\n",
      "FAMILY :  3695641.8198090694\n",
      "MEDICAL :  120550.61980830671\n",
      "SOCIAL :  23253652.127118643\n",
      "SHOPPING :  7036877.311557789\n",
      "PHOTOGRAPHY :  17840110.40229885\n",
      "SPORTS :  3638640.1428571427\n",
      "TRAVEL_AND_LOCAL :  13984077.710144928\n",
      "TOOLS :  10801391.298666667\n",
      "PERSONALIZATION :  5201482.6122448975\n",
      "PRODUCTIVITY :  16787331.344927534\n",
      "PARENTING :  542603.6206896552\n",
      "WEATHER :  5074486.197183099\n",
      "VIDEO_PLAYERS :  24727872.452830188\n",
      "NEWS_AND_MAGAZINES :  9549178.467741935\n",
      "MAPS_AND_NAVIGATION :  4056941.7741935486\n"
     ]
    }
   ],
   "source": [
    "unique_categories = freq_table(g_data_new, 1)\n",
    "\n",
    "for category in unique_categories:\n",
    "    total = 0\n",
    "    len_category = 0\n",
    "    \n",
    "    for row in g_data_new:\n",
    "        category_app = row[1]\n",
    "        if category_app == category:\n",
    "            installs = row[5]\n",
    "            installs = installs.replace('+','')\n",
    "            installs = installs.replace(',','')\n",
    "            installs = float(installs)\n",
    "            total += installs\n",
    "            len_category += 1\n",
    "        \n",
    "    avg_installs = total / len_category\n",
    "    print(category,': ',avg_installs)"
   ]
  },
  {
   "cell_type": "markdown",
   "metadata": {},
   "source": [
    "Most installed applications in categories: `BOOKS_AND_REFERENCE`, `COMMUNICATION`, `ENTERTAINMENT`, `SOCIAL`, `PHOTOGRAPHY`, `TRAVEL_AND_LOCAL`, `TOOLS`, `PRODUCTIVITY`, `VIDEO_PLAYERS`. Still communication category dominated by WhatsApp, Facebook Messenger, Skype etc, social - by Facebook, Instagram, Google+, photography  - by Google Photos and other popular photo editors, and productivity - by Microsoft Word, Dropbox, Google Calendar, Evernote, etc.\n",
    "\n",
    "We can look closer at the same category as in **AppStore** - `BOOKS_AND_REFERENCE`."
   ]
  },
  {
   "cell_type": "code",
   "execution_count": 102,
   "metadata": {},
   "outputs": [
    {
     "name": "stdout",
     "output_type": "stream",
     "text": [
      "E-Book Read - Read Book for free : 50,000+\n",
      "Download free book with green book : 100,000+\n",
      "Wikipedia : 10,000,000+\n",
      "Cool Reader : 10,000,000+\n",
      "Free Panda Radio Music : 100,000+\n",
      "Book store : 1,000,000+\n",
      "FBReader: Favorite Book Reader : 10,000,000+\n",
      "English Grammar Complete Handbook : 500,000+\n",
      "Free Books - Spirit Fanfiction and Stories : 1,000,000+\n",
      "Google Play Books : 1,000,000,000+\n",
      "AlReader -any text book reader : 5,000,000+\n",
      "Offline English Dictionary : 100,000+\n",
      "Offline: English to Tagalog Dictionary : 500,000+\n",
      "FamilySearch Tree : 1,000,000+\n",
      "Cloud of Books : 1,000,000+\n",
      "Recipes of Prophetic Medicine for free : 500,000+\n",
      "ReadEra – free ebook reader : 1,000,000+\n",
      "Anonymous caller detection : 10,000+\n",
      "Ebook Reader : 5,000,000+\n",
      "Litnet - E-books : 100,000+\n",
      "Read books online : 5,000,000+\n",
      "English to Urdu Dictionary : 500,000+\n",
      "eBoox: book reader fb2 epub zip : 1,000,000+\n",
      "English Persian Dictionary : 500,000+\n",
      "Flybook : 500,000+\n",
      "All Maths Formulas : 1,000,000+\n",
      "Ancestry : 5,000,000+\n",
      "HTC Help : 10,000,000+\n",
      "English translation from Bengali : 100,000+\n",
      "Pdf Book Download - Read Pdf Book : 100,000+\n",
      "Free Book Reader : 100,000+\n",
      "eBoox new: Reader for fb2 epub zip books : 50,000+\n",
      "Only 30 days in English, the guideline is guaranteed : 500,000+\n",
      "Moon+ Reader : 10,000,000+\n",
      "SH-02J Owner's Manual (Android 8.0) : 50,000+\n",
      "English-Myanmar Dictionary : 1,000,000+\n",
      "Golden Dictionary (EN-AR) : 1,000,000+\n",
      "All Language Translator Free : 1,000,000+\n",
      "Azpen eReader : 500,000+\n",
      "URBANO V 02 instruction manual : 100,000+\n",
      "Bible : 100,000,000+\n",
      "C Programs and Reference : 50,000+\n",
      "C Offline Tutorial : 1,000+\n",
      "C Programs Handbook : 50,000+\n",
      "Amazon Kindle : 100,000,000+\n",
      "Aab e Hayat Full Novel : 100,000+\n",
      "Aldiko Book Reader : 10,000,000+\n",
      "Google I/O 2018 : 500,000+\n",
      "R Language Reference Guide : 10,000+\n",
      "Learn R Programming Full : 5,000+\n",
      "R Programing Offline Tutorial : 1,000+\n",
      "Guide for R Programming : 5+\n",
      "Learn R Programming : 10+\n",
      "R Quick Reference Big Data : 1,000+\n",
      "V Made : 100,000+\n",
      "Wattpad 📖 Free Books : 100,000,000+\n",
      "Dictionary - WordWeb : 5,000,000+\n",
      "Guide (for X-MEN) : 100,000+\n",
      "AC Air condition Troubleshoot,Repair,Maintenance : 5,000+\n",
      "AE Bulletins : 1,000+\n",
      "Ae Allah na Dai (Rasa) : 10,000+\n",
      "50000 Free eBooks & Free AudioBooks : 5,000,000+\n",
      "Ag PhD Field Guide : 10,000+\n",
      "Ag PhD Deficiencies : 10,000+\n",
      "Ag PhD Planting Population Calculator : 1,000+\n",
      "Ag PhD Soybean Diseases : 1,000+\n",
      "Fertilizer Removal By Crop : 50,000+\n",
      "A-J Media Vault : 50+\n",
      "Al-Quran (Free) : 10,000,000+\n",
      "Al Quran (Tafsir & by Word) : 500,000+\n",
      "Al Quran Indonesia : 10,000,000+\n",
      "Al'Quran Bahasa Indonesia : 10,000,000+\n",
      "Al Quran Al karim : 1,000,000+\n",
      "Al-Muhaffiz : 50,000+\n",
      "Al Quran : EAlim - Translations & MP3 Offline : 5,000,000+\n",
      "Al-Quran 30 Juz free copies : 500,000+\n",
      "Koran Read &MP3 30 Juz Offline : 1,000,000+\n",
      "Hafizi Quran 15 lines per page : 1,000,000+\n",
      "Quran for Android : 10,000,000+\n",
      "Surah Al-Waqiah : 100,000+\n",
      "Hisnul Al Muslim - Hisn Invocations & Adhkaar : 100,000+\n",
      "Satellite AR : 1,000,000+\n",
      "Audiobooks from Audible : 100,000,000+\n",
      "Kinot & Eichah for Tisha B'Av : 10,000+\n",
      "AW Tozer Devotionals - Daily : 5,000+\n",
      "Tozer Devotional -Series 1 : 1,000+\n",
      "The Pursuit of God : 1,000+\n",
      "AY Sing : 5,000+\n",
      "Ay Hasnain k Nana Milad Naat : 10,000+\n",
      "Ay Mohabbat Teri Khatir Novel : 10,000+\n",
      "Arizona Statutes, ARS (AZ Law) : 1,000+\n",
      "Oxford A-Z of English Usage : 1,000,000+\n",
      "BD Fishpedia : 1,000+\n",
      "BD All Sim Offer : 10,000+\n",
      "Youboox - Livres, BD et magazines : 500,000+\n",
      "B&H Kids AR : 10,000+\n",
      "B y H Niños ES : 5,000+\n",
      "Dictionary.com: Find Definitions for English Words : 10,000,000+\n",
      "English Dictionary - Offline : 10,000,000+\n",
      "Bible KJV : 5,000,000+\n",
      "Borneo Bible, BM Bible : 10,000+\n",
      "MOD Black for BM : 100+\n",
      "BM Box : 1,000+\n",
      "Anime Mod for BM : 100+\n",
      "NOOK: Read eBooks & Magazines : 10,000,000+\n",
      "NOOK Audiobooks : 500,000+\n",
      "NOOK App for NOOK Devices : 500,000+\n",
      "Browsery by Barnes & Noble : 5,000+\n",
      "bp e-store : 1,000+\n",
      "Brilliant Quotes: Life, Love, Family & Motivation : 1,000,000+\n",
      "BR Ambedkar Biography & Quotes : 10,000+\n",
      "BU Alsace : 100+\n",
      "Catholic La Bu Zo Kam : 500+\n",
      "Khrifa Hla Bu (Solfa) : 10+\n",
      "Kristian Hla Bu : 10,000+\n",
      "SA HLA BU : 1,000+\n",
      "Learn SAP BW : 500+\n",
      "Learn SAP BW on HANA : 500+\n",
      "CA Laws 2018 (California Laws and Codes) : 5,000+\n",
      "Bootable Methods(USB-CD-DVD) : 10,000+\n",
      "cloudLibrary : 100,000+\n",
      "SDA Collegiate Quarterly : 500+\n",
      "Sabbath School : 100,000+\n",
      "Cypress College Library : 100+\n",
      "Stats Royale for Clash Royale : 1,000,000+\n",
      "GATE 21 years CS Papers(2011-2018 Solved) : 50+\n",
      "Learn CT Scan Of Head : 5,000+\n",
      "Easy Cv maker 2018 : 10,000+\n",
      "How to Write CV : 100,000+\n",
      "CW Nuclear : 1,000+\n",
      "CY Spray nozzle : 10+\n",
      "BibleRead En Cy Zh Yue : 5+\n",
      "CZ-Help : 5+\n",
      "Modlitební knížka CZ : 500+\n",
      "Guide for DB Xenoverse : 10,000+\n",
      "Guide for DB Xenoverse 2 : 10,000+\n",
      "Guide for IMS DB : 10+\n",
      "DC HSEMA : 5,000+\n",
      "DC Public Library : 1,000+\n",
      "Painting Lulu DC Super Friends : 1,000+\n",
      "Dictionary : 10,000,000+\n",
      "Fix Error Google Playstore : 1,000+\n",
      "D. H. Lawrence Poems FREE : 1,000+\n",
      "Bilingual Dictionary Audio App : 5,000+\n",
      "DM Screen : 10,000+\n",
      "wikiHow: how to do anything : 1,000,000+\n",
      "Dr. Doug's Tips : 1,000+\n",
      "Bible du Semeur-BDS (French) : 50,000+\n",
      "La citadelle du musulman : 50,000+\n",
      "DV 2019 Entry Guide : 10,000+\n",
      "DV 2019 - EDV Photo & Form : 50,000+\n",
      "DV 2018 Winners Guide : 1,000+\n",
      "EB Annual Meetings : 1,000+\n",
      "EC - AP & Telangana : 5,000+\n",
      "TN Patta Citta & EC : 10,000+\n",
      "AP Stamps and Registration : 10,000+\n",
      "CompactiMa EC pH Calibration : 100+\n",
      "EGW Writings 2 : 100,000+\n",
      "EGW Writings : 1,000,000+\n",
      "Bible with EGW Comments : 100,000+\n",
      "My Little Pony AR Guide : 1,000,000+\n",
      "SDA Sabbath School Quarterly : 500,000+\n",
      "Duaa Ek Ibaadat : 5,000+\n",
      "Spanish English Translator : 10,000,000+\n",
      "Dictionary - Merriam-Webster : 10,000,000+\n",
      "JW Library : 10,000,000+\n",
      "Oxford Dictionary of English : Free : 10,000,000+\n",
      "English Hindi Dictionary : 10,000,000+\n",
      "English to Hindi Dictionary : 5,000,000+\n",
      "EP Research Service : 1,000+\n",
      "Hymnes et Louanges : 100,000+\n",
      "EU Charter : 1,000+\n",
      "EU Data Protection : 1,000+\n",
      "EU IP Codes : 100+\n",
      "EW PDF : 5+\n",
      "BakaReader EX : 100,000+\n",
      "EZ Quran : 50,000+\n",
      "FA Part 1 & 2 Past Papers Solved Free – Offline : 5,000+\n",
      "La Fe de Jesus : 1,000+\n",
      "La Fe de Jesús : 500+\n",
      "Le Fe de Jesus : 500+\n",
      "Florida - Pocket Brainbook : 1,000+\n",
      "Florida Statutes (FL Code) : 1,000+\n",
      "English To Shona Dictionary : 10,000+\n",
      "Greek Bible FP (Audio) : 1,000+\n",
      "Golden Dictionary (FR-AR) : 500,000+\n",
      "Fanfic-FR : 5,000+\n",
      "Bulgarian French Dictionary Fr : 10,000+\n",
      "Chemin (fr) : 1,000+\n",
      "The SCP Foundation DB fr nn5n : 1,000+\n"
     ]
    }
   ],
   "source": [
    "for row in g_data_new:\n",
    "    genre = row[1]\n",
    "    if genre == 'BOOKS_AND_REFERENCE':\n",
    "        print(row[0], ':', row[5]) # print name and number of installs"
   ]
  },
  {
   "cell_type": "markdown",
   "metadata": {},
   "source": [
    "Best choise is to try an application for `BOOKS_AND_REFERENCE` category.\n",
    "\n",
    "## Conclusions\n",
    "\n",
    "Result of analysis is recomendation to make an application for book category. It can be religios popular kind or new one. As far as both narkets (**Google Play** and **Adpp Store**) are pretty full of libraries, some special features should be added to apptlication. This might include daily quotes from the book, an audio version of the book, quizzes on the book, a forum where people can discuss the book, etc."
   ]
  }
 ],
 "metadata": {
  "kernelspec": {
   "display_name": "Python 3",
   "language": "python",
   "name": "python3"
  },
  "language_info": {
   "codemirror_mode": {
    "name": "ipython",
    "version": 3
   },
   "file_extension": ".py",
   "mimetype": "text/x-python",
   "name": "python",
   "nbconvert_exporter": "python",
   "pygments_lexer": "ipython3",
   "version": "3.7.3"
  }
 },
 "nbformat": 4,
 "nbformat_minor": 2
}
